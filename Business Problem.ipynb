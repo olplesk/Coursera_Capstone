{
 "cells": [
  {
   "cell_type": "markdown",
   "metadata": {},
   "source": [
    "## Business problem \n",
    "\n",
    "For the final project, I chose the following business problem: Choosing the best Borough of New York City for the location of the Chinese Mall. \n",
    "\n",
    "This seems like a simple task, because Chinese goods have a significant price advantage. However, I assume that cheap Chinese goods will use the highest demand precisely in places with a greater concentration of people from China and India, since they are more accustomed to such goods. In addition, for my analysis, I make the assumption that it is quite profitable to locate such stores near other shopping centers, where people accumulate specifically for shopping and leisure.\n",
    "\n",
    "To do this, I will follow 3 basic steps:\n",
    "1. Analysing the datasets of 5 boroughs\n",
    "2. Getting top 100 popular venues within for a given neighbourhood Using Forsquare APIs \n",
    "3. Exploring and analyzing the data of each borough\n"
   ]
  },
  {
   "cell_type": "code",
   "execution_count": null,
   "metadata": {},
   "outputs": [],
   "source": []
  }
 ],
 "metadata": {
  "kernelspec": {
   "display_name": "Python 3",
   "language": "python",
   "name": "python3"
  },
  "language_info": {
   "codemirror_mode": {
    "name": "ipython",
    "version": 3
   },
   "file_extension": ".py",
   "mimetype": "text/x-python",
   "name": "python",
   "nbconvert_exporter": "python",
   "pygments_lexer": "ipython3",
   "version": "3.6.7"
  }
 },
 "nbformat": 4,
 "nbformat_minor": 2
}
